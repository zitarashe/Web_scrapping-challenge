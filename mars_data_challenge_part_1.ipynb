{
 "cells": [
  {
   "cell_type": "code",
   "execution_count": 1,
   "metadata": {},
   "outputs": [],
   "source": [
    "# Dependencies\n",
    "from splinter import Browser\n",
    "from bs4 import BeautifulSoup"
   ]
  },
  {
   "cell_type": "code",
   "execution_count": 2,
   "metadata": {},
   "outputs": [],
   "source": [
    "browser = Browser('chrome', headless=False)"
   ]
  },
  {
   "cell_type": "code",
   "execution_count": 4,
   "metadata": {},
   "outputs": [],
   "source": [
    "# Mars news URL of page to be scraped\n",
    "mars_news_url = 'https://redplanetscience.com/'\n",
    "\n",
    "browser.visit(mars_news_url)\n",
    "browser.is_element_present_by_id('news')\n",
    "\n",
    "html = browser.html\n",
    "\n",
    "mars_news_soup = BeautifulSoup(html, 'html.parser')"
   ]
  },
  {
   "cell_type": "code",
   "execution_count": 5,
   "metadata": {},
   "outputs": [
    {
     "name": "stdout",
     "output_type": "stream",
     "text": [
      "[{'title': \"A Year of Surprising Science From NASA's InSight Mars Mission\", 'preview': \"A batch of new papers summarizes the lander's findings above and below the surface of the Red Planet.\"}, {'title': \"NASA's InSight Flexes Its Arm While Its 'Mole' Hits Pause\", 'preview': \"A batch of new papers summarizes the lander's findings above and below the surface of the Red Planet.\"}, {'title': \"NASA's MAVEN Observes Martian Night Sky Pulsing in Ultraviolet Light\", 'preview': \"A batch of new papers summarizes the lander's findings above and below the surface of the Red Planet.\"}, {'title': \"Nine Finalists Chosen in NASA's Mars 2020 Rover Naming Contest\", 'preview': \"A batch of new papers summarizes the lander's findings above and below the surface of the Red Planet.\"}, {'title': \"NASA's Mars Perseverance Rover Passes Flight Readiness Review\", 'preview': \"A batch of new papers summarizes the lander's findings above and below the surface of the Red Planet.\"}, {'title': \"Curiosity Mars Rover's Summer Road Trip Has Begun\", 'preview': \"A batch of new papers summarizes the lander's findings above and below the surface of the Red Planet.\"}, {'title': \"NASA's Briefcase-Size MarCO Satellite Picks Up Honors\", 'preview': \"A batch of new papers summarizes the lander's findings above and below the surface of the Red Planet.\"}, {'title': \"NASA's Perseverance Rover Attached to Atlas V Rocket\", 'preview': \"A batch of new papers summarizes the lander's findings above and below the surface of the Red Planet.\"}, {'title': \"The Detective Aboard NASA's Perseverance Rover\", 'preview': \"A batch of new papers summarizes the lander's findings above and below the surface of the Red Planet.\"}, {'title': \"Meet the People Behind NASA's Perseverance Rover\", 'preview': \"A batch of new papers summarizes the lander's findings above and below the surface of the Red Planet.\"}, {'title': \"10.9 Million Names Now Aboard NASA's Perseverance Mars Rover\", 'preview': \"A batch of new papers summarizes the lander's findings above and below the surface of the Red Planet.\"}, {'title': \"HiRISE Views NASA's InSight and Curiosity on Mars\", 'preview': \"A batch of new papers summarizes the lander's findings above and below the surface of the Red Planet.\"}, {'title': \"NASA's Treasure Map for Water Ice on Mars\", 'preview': \"A batch of new papers summarizes the lander's findings above and below the surface of the Red Planet.\"}, {'title': \"NASA's Perseverance Mars Rover Gets Its Wheels and Air Brakes\", 'preview': \"A batch of new papers summarizes the lander's findings above and below the surface of the Red Planet.\"}, {'title': \"NASA's Mars 2020 Rover Goes Coast-to-Coast to Prep for Launch\", 'preview': \"A batch of new papers summarizes the lander's findings above and below the surface of the Red Planet.\"}]\n"
     ]
    }
   ],
   "source": [
    "# Retrieve the latest news articles\n",
    "articles = mars_news_soup.find_all('div', class_='list_text')\n",
    "\n",
    "article_list = []\n",
    "# Iterate through each article\n",
    "for article in articles:\n",
    "    article_dict = {}\n",
    "    article_dict['title'] = article.find('div', class_='content_title').text\n",
    "    article_dict['preview'] = mars_news_soup.find('div', class_='article_teaser_body').text\n",
    "    article_list.append(article_dict)\n",
    "    \n",
    "print(article_list)"
   ]
  }
 ],
 "metadata": {
  "kernelspec": {
   "display_name": "Python 3 (ipykernel)",
   "language": "python",
   "name": "python3"
  },
  "language_info": {
   "codemirror_mode": {
    "name": "ipython",
    "version": 3
   },
   "file_extension": ".py",
   "mimetype": "text/x-python",
   "name": "python",
   "nbconvert_exporter": "python",
   "pygments_lexer": "ipython3",
   "version": "3.9.12"
  }
 },
 "nbformat": 4,
 "nbformat_minor": 2
}
